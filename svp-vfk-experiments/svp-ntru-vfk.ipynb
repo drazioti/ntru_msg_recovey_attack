{
 "cells": [
  {
   "cell_type": "code",
   "execution_count": null,
   "id": "c85eff7b",
   "metadata": {},
   "outputs": [],
   "source": [
    "# sagemath version 9.8\n",
    "# Author : E. Poimenidou"
   ]
  },
  {
   "cell_type": "code",
   "execution_count": 47,
   "id": "5d5b9719",
   "metadata": {},
   "outputs": [],
   "source": [
    "reset()\n",
    "import numpy as np\n",
    "import networkx as nx\n",
    "from numpy import linalg as LA\n",
    "import random\n",
    "from fpylll import IntegerMatrix,LLL,GSO\n",
    "from fpylll.util import gaussian_heuristic\n",
    "\n",
    "# uses fpylll to return the gram schimdt matrix and the ||bi*||\n",
    "\n",
    "\n",
    "def find_k_and_P(q):\n",
    "    for k in range(1,200):\n",
    "        A,B,C = -(1+k^2), -k^2+2*k*q-1, q*(k-q)\n",
    "        g = A*x^2+B*x+C\n",
    "        P = floor( k*q / (k^2+1)  )\n",
    "        G=g.subs(x=P)\n",
    "        if G>0:\n",
    "            A,B,C = -(1+(k-1)^2), -(k-1)^2+2*(k-1)*q-1, q*(k-1-q)\n",
    "            g = A*x^2+B*x+C\n",
    "            P = floor( (k-1)*q / ( (k-1)^2+1)  )\n",
    "            G=g.subs(x=P)\n",
    "            print(q,\":\",k-1,P)  \n",
    "            return k-1,P\n",
    "        \n",
    "def gram_schimdt(A, n):\n",
    "    M = GSO.Mat(A)\n",
    "    M.update_gso()\n",
    "    rows = A.nrows\n",
    "    matrix = np.array([M.get_mu(i, j) for i in range(rows) for j in range(rows)]).reshape(rows, rows)\n",
    "    orth_norm = np.array([M.get_r(k, k) for k in range(n)])\n",
    "    return matrix, orth_norm\n",
    "\n",
    "def mat2fp(A):\n",
    "    L = IntegerMatrix(A.shape[0], A.shape[1])\n",
    "    for i in range(A.shape[0]):\n",
    "        for j in range(A.shape[1]):\n",
    "            L[i, j] = int(A[i, j])\n",
    "    return L\n",
    "\n",
    "def get_qij(superbasis):\n",
    "    n = len(superbasis)\n",
    "    Q = [superbasis[i].dot_product(superbasis[j]) for i in range(n) for j in range(n)]\n",
    "    Q = matrix(n, n, Q)\n",
    "    return Q\n",
    "\n",
    "def get_superbasis(basis): # basis is a list\n",
    "    n = len(basis)\n",
    "    basis = [vector(x) for x in basis]\n",
    "    superbasis_vector = -sum(basis[i] for i in [0..n-1])\n",
    "    return [vector(basis[i]) for i in [0..n-1]] + [vector(superbasis_vector)]\n",
    "\n",
    "def length(v):\n",
    "    n = len(v[0])\n",
    "    x=0\n",
    "    print(n)\n",
    "    for i in range(n):\n",
    "        x=x+v[0][i]**2\n",
    "    return x.expand()\n",
    "\n",
    "def t_coeffs(dimension, set_c, source):\n",
    "    set_c.remove(source)\n",
    "    t = np.zeros(shape=dimension)\n",
    "    for i in set_c:\n",
    "        t[i-1] = 1\n",
    "    return t\n",
    "\n",
    "def do_mincut_svp(n, Q):\n",
    "    G = create_weighted_graph_networkx_svp(n, Q) \n",
    "    source = 0\n",
    "    sink = n\n",
    "    cut_value, partition = nx.minimum_cut(G, source, sink)\n",
    "    reachable, non_reachable = partition\n",
    "    cut = reachable if source in reachable else non_reachable\n",
    "    t_c = t_coeffs(n+1,cut,0)\n",
    "    return t_c, cut_value\n",
    "\n",
    "\n",
    "def create_weighted_graph_networkx_svp(dimension, Q):\n",
    "    \"\"\"\n",
    "    source and sink are two positive integers, source = 0 and sink = n+2\n",
    "    S=(s_i) is given by s_i=-2sum_{j} q_{ij}p_j\n",
    "    Graph has n+3 nodes: the 1st node is the source = 0, the next n+1 nodes represent each vector \n",
    "    of the superbasis and thelast n+3 th node is the sink\n",
    "    \"\"\"\n",
    "    graph = nx.Graph()\n",
    "    source = 0\n",
    "    sink = dimension\n",
    "    graph.add_nodes_from(range(source, sink))\n",
    "\n",
    "    for i in range(source, sink+1):\n",
    "        for j in range(source, sink+1):\n",
    "            graph.add_edge(i, j, capacity=-Q[i][j])\n",
    "    return graph\n",
    "\n",
    "def is_vfk(Q,N):\n",
    "    '''\n",
    "    Q is the Gram-Schimdt matrix of the superbasis\n",
    "    N is the parameter given when we build ntru_vfk_matrix\n",
    "    '''\n",
    "    lst=[]\n",
    "    x=np.array([Q])\n",
    "    lst=x[np.nonzero(x)]\n",
    "    lst=list(lst)\n",
    "    for i in range(2*N+1):\n",
    "        if Q[i][i]!=0:\n",
    "            lst.remove(Q[i][i])\n",
    "    return all(val <= 0 for val in lst)\n",
    "\n",
    "def length(v):\n",
    "    n = len(v[0])\n",
    "    x=0\n",
    "    print(n)\n",
    "    for i in range(n):\n",
    "        x=x+v[0][i]**2\n",
    "    return x.expand()\n",
    "\n",
    "def svp_vfk(N,Q,super_basis):\n",
    "    t, weight = do_mincut_svp(2*N,Q)\n",
    "    vec = np.dot(t, super_basis).astype(int)\n",
    "    print(\"length :\", np.linalg.norm(vec))\n",
    "    print(\"vector=\",vec)\n",
    "    return vec"
   ]
  },
  {
   "cell_type": "code",
   "execution_count": 53,
   "id": "1a623684",
   "metadata": {},
   "outputs": [],
   "source": [
    "def matrix_for_the_lattice(N,q,F):\n",
    "    H = matrix(N)\n",
    "    I=identity_matrix(N)\n",
    "\n",
    "    Zero_Matrix=matrix(N)\n",
    "\n",
    "    for i in range(N):\n",
    "        for j in range(N):\n",
    "            H[i,j] = Convolution_in_R(Zx(F),x^i,N)[j]\n",
    "       \n",
    "    B_1=block_matrix([[I,H]])       \n",
    "    B_2=block_matrix([[Zero_Matrix,q*I]])\n",
    "    M_NTRU=block_matrix([[B_1],[B_2]])\n",
    "    return M_NTRU\n",
    "\n",
    "def init_attack(N,q):\n",
    "    kappa,P=find_k_and_P(q)\n",
    "    alpha_vector_vfk = [-kappa] + [0 for i in range(N-1)] \n",
    "    A = Zx(alpha_vector_vfk)\n",
    "    M_k = matrix_for_the_lattice(N,q,A)\n",
    "    M_NTRU_VFK=unimodular(P,N)*M_k\n",
    "    # from paper: remark 4.1\n",
    "    r = - ((kappa*P + kappa - q)*kappa + P + 1)\n",
    "    s = (kappa*P + kappa - q)*(q - kappa*P ) - (P + 1)*P\n",
    "    t = (kappa*P-q)*kappa + P\n",
    "    diag1 = N * ( (1 + P )^2 + ( kappa*(P + 1) - q)^2 )\n",
    "    diag2 = 1+kappa^2\n",
    "    basis = M_NTRU_VFK.rows()\n",
    "    super_basis=get_superbasis(basis)\n",
    "    Q=get_qij(super_basis)\n",
    "    print(\"is VFK?\",is_vfk(Q,N))\n",
    "    return kappa,Q,M_NTRU_VFK,M_k,super_basis\n",
    "\n",
    "def unimodular(P,N):\n",
    "    '''\n",
    "    N,P see the paper (both are positive integer)\n",
    "    The output is a unimodular matrix of dimension 2N x 2N\n",
    "    '''\n",
    "    #upper block\n",
    "    I=identity_matrix(N)\n",
    "    Zero_Matrix=matrix(N)\n",
    "    #lower block\n",
    "    matrix_P = P*I\n",
    "    \n",
    "    B_u = block_matrix([[I,Zero_Matrix]])   \n",
    "    B_l = block_matrix([[matrix_P,I]])  \n",
    "    unimod_matrix = block_matrix([[B_u],[B_l]])   \n",
    "    return unimod_matrix\n",
    "\n",
    "def Convolution_in_R(f,g,N):\n",
    "    return (f*g)%(x^N-1)\n",
    "Zx.<x> = ZZ[]"
   ]
  },
  {
   "cell_type": "code",
   "execution_count": 77,
   "id": "db29eea4",
   "metadata": {},
   "outputs": [
    {
     "name": "stdout",
     "output_type": "stream",
     "text": [
      "2048 : 64 31\n",
      "is VFK? True\n",
      "length : 64.00781202322104\n",
      "vector= [  0   0   0 ...   0   0 -64]\n"
     ]
    }
   ],
   "source": [
    "#ntruhps2048509\n",
    "N,q=509,2048\n",
    "kappa,Q,M_NTRU_VFK,M_k,super_basis=init_attack(N,q)\n",
    "result = svp_vfk(N,Q,super_basis)"
   ]
  },
  {
   "cell_type": "code",
   "execution_count": 78,
   "id": "c784c58e",
   "metadata": {},
   "outputs": [
    {
     "name": "stdout",
     "output_type": "stream",
     "text": [
      "2048 : 64 31\n",
      "is VFK? True\n",
      "length : 64.00781202322104\n",
      "vector= [  0   0   0 ...   0   0 -64]\n"
     ]
    }
   ],
   "source": [
    "#ntruhps2048677\n",
    "N,q=677,2048\n",
    "kappa,Q,M_NTRU_VFK,M_k,super_basis=init_attack(N,q)\n",
    "result = svp_vfk(N,Q,super_basis)"
   ]
  },
  {
   "cell_type": "code",
   "execution_count": 79,
   "id": "024ea34e",
   "metadata": {},
   "outputs": [
    {
     "name": "stdout",
     "output_type": "stream",
     "text": [
      "4621 : 101 45\n",
      "is VFK? True\n",
      "length : 101.00495037373169\n",
      "vector= [   0    0    0 ...    0    0 -101]\n"
     ]
    }
   ],
   "source": [
    "#sntrup653\n",
    "N,q=653,4621\n",
    "kappa,Q,M_NTRU_VFK,M_k,super_basis=init_attack(N,q)\n",
    "result = svp_vfk(N,Q,super_basis)"
   ]
  },
  {
   "cell_type": "code",
   "execution_count": 80,
   "id": "dc60a35a",
   "metadata": {},
   "outputs": [
    {
     "name": "stdout",
     "output_type": "stream",
     "text": [
      "4591 : 98 46\n",
      "is VFK? True\n",
      "length : 98.00510190801293\n",
      "vector= [  0   0   0 ...   0   0 -98]\n"
     ]
    }
   ],
   "source": [
    "#sntrup761\n",
    "N,q=761,4591\n",
    "kappa,Q,M_NTRU_VFK,M_k,super_basis=init_attack(N,q)\n",
    "result = svp_vfk(N,Q,super_basis)"
   ]
  },
  {
   "cell_type": "code",
   "execution_count": null,
   "id": "b7664693",
   "metadata": {},
   "outputs": [],
   "source": []
  }
 ],
 "metadata": {
  "kernelspec": {
   "display_name": "SageMath 9.8",
   "language": "sage",
   "name": "sagemath-9.8"
  },
  "language_info": {
   "codemirror_mode": {
    "name": "ipython",
    "version": 3
   },
   "file_extension": ".py",
   "mimetype": "text/x-python",
   "name": "python",
   "nbconvert_exporter": "python",
   "pygments_lexer": "ipython3",
   "version": "3.11.1"
  }
 },
 "nbformat": 4,
 "nbformat_minor": 5
}
